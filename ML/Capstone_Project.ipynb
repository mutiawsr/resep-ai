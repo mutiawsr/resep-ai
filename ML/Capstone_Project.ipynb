{
  "nbformat": 4,
  "nbformat_minor": 0,
  "metadata": {
    "colab": {
      "name": "Capstone Project.ipynb",
      "provenance": []
    },
    "kernelspec": {
      "name": "python3",
      "display_name": "Python 3"
    },
    "language_info": {
      "name": "python"
    }
  },
  "cells": [
    {
      "cell_type": "markdown",
      "source": [
        "Notes: \n",
        "*   Google Collab Link: https://colab.research.google.com/drive/1kYAuwJkV_BvpgZ1gHOMPtOB7zieuIbYv?usp=sharing"
      ],
      "metadata": {
        "id": "nHPB96ewEsgE"
      }
    },
    {
      "cell_type": "markdown",
      "source": [
        "# Bangkit Capstone\n",
        "Searching recipes using reverse image search using image classification\n",
        "We will be trying to use TFLite as our tool to deploy our model."
      ],
      "metadata": {
        "id": "wQo5Z6sjA2aX"
      }
    },
    {
      "cell_type": "markdown",
      "source": [
        "## **Pre-Processing**"
      ],
      "metadata": {
        "id": "ujGQtaKBBBWo"
      }
    },
    {
      "cell_type": "code",
      "execution_count": null,
      "metadata": {
        "id": "mLsZdVaVAWd2"
      },
      "outputs": [],
      "source": [
        ""
      ]
    },
    {
      "cell_type": "markdown",
      "source": [
        "## **Processing**"
      ],
      "metadata": {
        "id": "XiT68OBEBGSj"
      }
    },
    {
      "cell_type": "code",
      "source": [
        ""
      ],
      "metadata": {
        "id": "AvfUqlEhBJFf"
      },
      "execution_count": null,
      "outputs": []
    },
    {
      "cell_type": "markdown",
      "source": [
        "## **TFLite Model**"
      ],
      "metadata": {
        "id": "o3aqppp3BJed"
      }
    },
    {
      "cell_type": "code",
      "source": [
        ""
      ],
      "metadata": {
        "id": "DA-ltMoEFBsr"
      },
      "execution_count": null,
      "outputs": []
    }
  ]
}